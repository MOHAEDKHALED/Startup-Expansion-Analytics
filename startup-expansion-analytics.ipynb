{
 "cells": [
  {
   "cell_type": "markdown",
   "id": "b14b4fe1",
   "metadata": {
    "papermill": {
     "duration": 0.013945,
     "end_time": "2024-05-08T20:34:06.773302",
     "exception": false,
     "start_time": "2024-05-08T20:34:06.759357",
     "status": "completed"
    },
    "tags": []
   },
   "source": [
    "# Startup Expansion Analysis "
   ]
  },
  {
   "cell_type": "markdown",
   "id": "f7048bc7",
   "metadata": {
    "papermill": {
     "duration": 0.012838,
     "end_time": "2024-05-08T20:34:06.800449",
     "exception": false,
     "start_time": "2024-05-08T20:34:06.787611",
     "status": "completed"
    },
    "tags": []
   },
   "source": [
    "## Importing Libraries"
   ]
  },
  {
   "cell_type": "code",
   "execution_count": 1,
   "id": "99f4223a",
   "metadata": {
    "_kg_hide-input": false,
    "_kg_hide-output": true,
    "execution": {
     "iopub.execute_input": "2024-05-08T20:34:06.830020Z",
     "iopub.status.busy": "2024-05-08T20:34:06.829066Z",
     "iopub.status.idle": "2024-05-08T20:34:24.254952Z",
     "shell.execute_reply": "2024-05-08T20:34:24.253035Z"
    },
    "papermill": {
     "duration": 17.443628,
     "end_time": "2024-05-08T20:34:24.257899",
     "exception": false,
     "start_time": "2024-05-08T20:34:06.814271",
     "status": "completed"
    },
    "tags": []
   },
   "outputs": [
    {
     "name": "stdout",
     "output_type": "stream",
     "text": [
      "Requirement already satisfied: folium in /opt/conda/lib/python3.10/site-packages (0.16.0)\r\n",
      "Requirement already satisfied: geopandas in /opt/conda/lib/python3.10/site-packages (0.14.3)\r\n",
      "Requirement already satisfied: branca>=0.6.0 in /opt/conda/lib/python3.10/site-packages (from folium) (0.7.1)\r\n",
      "Requirement already satisfied: jinja2>=2.9 in /opt/conda/lib/python3.10/site-packages (from folium) (3.1.2)\r\n",
      "Requirement already satisfied: numpy in /opt/conda/lib/python3.10/site-packages (from folium) (1.26.4)\r\n",
      "Requirement already satisfied: requests in /opt/conda/lib/python3.10/site-packages (from folium) (2.31.0)\r\n",
      "Requirement already satisfied: xyzservices in /opt/conda/lib/python3.10/site-packages (from folium) (2024.4.0)\r\n",
      "Requirement already satisfied: fiona>=1.8.21 in /opt/conda/lib/python3.10/site-packages (from geopandas) (1.9.6)\r\n",
      "Requirement already satisfied: packaging in /opt/conda/lib/python3.10/site-packages (from geopandas) (21.3)\r\n",
      "Requirement already satisfied: pandas>=1.4.0 in /opt/conda/lib/python3.10/site-packages (from geopandas) (2.2.2)\r\n",
      "Requirement already satisfied: pyproj>=3.3.0 in /opt/conda/lib/python3.10/site-packages (from geopandas) (3.6.1)\r\n",
      "Requirement already satisfied: shapely>=1.8.0 in /opt/conda/lib/python3.10/site-packages (from geopandas) (1.8.5.post1)\r\n",
      "Requirement already satisfied: attrs>=19.2.0 in /opt/conda/lib/python3.10/site-packages (from fiona>=1.8.21->geopandas) (23.2.0)\r\n",
      "Requirement already satisfied: certifi in /opt/conda/lib/python3.10/site-packages (from fiona>=1.8.21->geopandas) (2024.2.2)\r\n",
      "Requirement already satisfied: click~=8.0 in /opt/conda/lib/python3.10/site-packages (from fiona>=1.8.21->geopandas) (8.1.7)\r\n",
      "Requirement already satisfied: click-plugins>=1.0 in /opt/conda/lib/python3.10/site-packages (from fiona>=1.8.21->geopandas) (1.1.1)\r\n",
      "Requirement already satisfied: cligj>=0.5 in /opt/conda/lib/python3.10/site-packages (from fiona>=1.8.21->geopandas) (0.7.2)\r\n",
      "Requirement already satisfied: six in /opt/conda/lib/python3.10/site-packages (from fiona>=1.8.21->geopandas) (1.16.0)\r\n",
      "Requirement already satisfied: MarkupSafe>=2.0 in /opt/conda/lib/python3.10/site-packages (from jinja2>=2.9->folium) (2.1.3)\r\n",
      "Requirement already satisfied: python-dateutil>=2.8.2 in /opt/conda/lib/python3.10/site-packages (from pandas>=1.4.0->geopandas) (2.9.0.post0)\r\n",
      "Requirement already satisfied: pytz>=2020.1 in /opt/conda/lib/python3.10/site-packages (from pandas>=1.4.0->geopandas) (2023.3.post1)\r\n",
      "Requirement already satisfied: tzdata>=2022.7 in /opt/conda/lib/python3.10/site-packages (from pandas>=1.4.0->geopandas) (2023.4)\r\n",
      "Requirement already satisfied: pyparsing!=3.0.5,>=2.0.2 in /opt/conda/lib/python3.10/site-packages (from packaging->geopandas) (3.1.1)\r\n",
      "Requirement already satisfied: charset-normalizer<4,>=2 in /opt/conda/lib/python3.10/site-packages (from requests->folium) (3.3.2)\r\n",
      "Requirement already satisfied: idna<4,>=2.5 in /opt/conda/lib/python3.10/site-packages (from requests->folium) (3.6)\r\n",
      "Requirement already satisfied: urllib3<3,>=1.21.1 in /opt/conda/lib/python3.10/site-packages (from requests->folium) (1.26.18)\r\n",
      "Note: you may need to restart the kernel to use updated packages.\n"
     ]
    }
   ],
   "source": [
    "pip install folium geopandas\n"
   ]
  },
  {
   "cell_type": "code",
   "execution_count": 2,
   "id": "85c15c13",
   "metadata": {
    "_cell_guid": "b1076dfc-b9ad-4769-8c92-a6c4dae69d19",
    "_uuid": "8f2839f25d086af736a60e9eeb907d3b93b6e0e5",
    "execution": {
     "iopub.execute_input": "2024-05-08T20:34:24.289487Z",
     "iopub.status.busy": "2024-05-08T20:34:24.288999Z",
     "iopub.status.idle": "2024-05-08T20:34:27.178640Z",
     "shell.execute_reply": "2024-05-08T20:34:27.177100Z"
    },
    "papermill": {
     "duration": 2.909837,
     "end_time": "2024-05-08T20:34:27.181985",
     "exception": false,
     "start_time": "2024-05-08T20:34:24.272148",
     "status": "completed"
    },
    "tags": []
   },
   "outputs": [],
   "source": [
    "import numpy as np\n",
    "import pandas as pd\n",
    "import matplotlib.pyplot as plt\n",
    "import seaborn as sns"
   ]
  },
  {
   "cell_type": "code",
   "execution_count": 3,
   "id": "ab73eec3",
   "metadata": {
    "execution": {
     "iopub.execute_input": "2024-05-08T20:34:27.211577Z",
     "iopub.status.busy": "2024-05-08T20:34:27.210884Z",
     "iopub.status.idle": "2024-05-08T20:34:28.250954Z",
     "shell.execute_reply": "2024-05-08T20:34:28.249715Z"
    },
    "papermill": {
     "duration": 1.057905,
     "end_time": "2024-05-08T20:34:28.253918",
     "exception": false,
     "start_time": "2024-05-08T20:34:27.196013",
     "status": "completed"
    },
    "tags": []
   },
   "outputs": [],
   "source": [
    "import folium\n",
    "import geopandas as gpd\n",
    "from geopandas.tools import geocode\n",
    "from geopy.geocoders import Nominatim\n"
   ]
  },
  {
   "cell_type": "markdown",
   "id": "c206ea01",
   "metadata": {
    "papermill": {
     "duration": 0.013141,
     "end_time": "2024-05-08T20:34:28.280803",
     "exception": false,
     "start_time": "2024-05-08T20:34:28.267662",
     "status": "completed"
    },
    "tags": []
   },
   "source": [
    "## Importing & Inserting Data"
   ]
  },
  {
   "cell_type": "code",
   "execution_count": 4,
   "id": "dce66e96",
   "metadata": {
    "execution": {
     "iopub.execute_input": "2024-05-08T20:34:28.310480Z",
     "iopub.status.busy": "2024-05-08T20:34:28.308994Z",
     "iopub.status.idle": "2024-05-08T20:34:28.815808Z",
     "shell.execute_reply": "2024-05-08T20:34:28.814835Z"
    },
    "papermill": {
     "duration": 0.524778,
     "end_time": "2024-05-08T20:34:28.818886",
     "exception": false,
     "start_time": "2024-05-08T20:34:28.294108",
     "status": "completed"
    },
    "tags": []
   },
   "outputs": [
    {
     "name": "stdout",
     "output_type": "stream",
     "text": [
      "File loaded successfully.\n"
     ]
    }
   ],
   "source": [
    "import pandas as pd\n",
    "import os\n",
    "\n",
    "# Update input_dir based on identified dataset directory\n",
    "input_dir = '/kaggle/input/'\n",
    "file_name = 'startup-expansion.xlsx'\n",
    "file_path = os.path.join(input_dir, file_name)\n",
    "\n",
    "# Check if the file exists\n",
    "if os.path.exists(file_path):\n",
    "    try:\n",
    "        # Attempt to read the Excel file\n",
    "        startup = pd.read_excel(file_path)\n",
    "        print(\"File loaded successfully.\")\n",
    "        # Proceed with further processing of the 'startup' DataFrame\n",
    "    except Exception as e:\n",
    "        print(f\"Error loading the file: {e}\")\n",
    "else:\n",
    "    print(f\"Error: File '{file_name}' not found in '{input_dir}'.\")\n"
   ]
  },
  {
   "cell_type": "code",
   "execution_count": 5,
   "id": "ae3a081b",
   "metadata": {
    "execution": {
     "iopub.execute_input": "2024-05-08T20:34:28.851491Z",
     "iopub.status.busy": "2024-05-08T20:34:28.850554Z",
     "iopub.status.idle": "2024-05-08T20:34:28.886564Z",
     "shell.execute_reply": "2024-05-08T20:34:28.885276Z"
    },
    "papermill": {
     "duration": 0.054069,
     "end_time": "2024-05-08T20:34:28.889069",
     "exception": false,
     "start_time": "2024-05-08T20:34:28.835000",
     "status": "completed"
    },
    "tags": []
   },
   "outputs": [
    {
     "data": {
      "text/html": [
       "<div>\n",
       "<style scoped>\n",
       "    .dataframe tbody tr th:only-of-type {\n",
       "        vertical-align: middle;\n",
       "    }\n",
       "\n",
       "    .dataframe tbody tr th {\n",
       "        vertical-align: top;\n",
       "    }\n",
       "\n",
       "    .dataframe thead th {\n",
       "        text-align: right;\n",
       "    }\n",
       "</style>\n",
       "<table border=\"1\" class=\"dataframe\">\n",
       "  <thead>\n",
       "    <tr style=\"text-align: right;\">\n",
       "      <th></th>\n",
       "      <th>Store ID</th>\n",
       "      <th>City</th>\n",
       "      <th>State</th>\n",
       "      <th>Sales Region</th>\n",
       "      <th>New Expansion</th>\n",
       "      <th>Marketing Spend</th>\n",
       "      <th>Revenue</th>\n",
       "    </tr>\n",
       "  </thead>\n",
       "  <tbody>\n",
       "    <tr>\n",
       "      <th>0</th>\n",
       "      <td>1</td>\n",
       "      <td>Peoria</td>\n",
       "      <td>Arizona</td>\n",
       "      <td>Region 2</td>\n",
       "      <td>Old</td>\n",
       "      <td>2601</td>\n",
       "      <td>48610</td>\n",
       "    </tr>\n",
       "    <tr>\n",
       "      <th>1</th>\n",
       "      <td>2</td>\n",
       "      <td>Midland</td>\n",
       "      <td>Texas</td>\n",
       "      <td>Region 2</td>\n",
       "      <td>Old</td>\n",
       "      <td>2727</td>\n",
       "      <td>45689</td>\n",
       "    </tr>\n",
       "    <tr>\n",
       "      <th>2</th>\n",
       "      <td>3</td>\n",
       "      <td>Spokane</td>\n",
       "      <td>Washington</td>\n",
       "      <td>Region 2</td>\n",
       "      <td>Old</td>\n",
       "      <td>2768</td>\n",
       "      <td>49554</td>\n",
       "    </tr>\n",
       "    <tr>\n",
       "      <th>3</th>\n",
       "      <td>4</td>\n",
       "      <td>Denton</td>\n",
       "      <td>Texas</td>\n",
       "      <td>Region 2</td>\n",
       "      <td>Old</td>\n",
       "      <td>2759</td>\n",
       "      <td>38284</td>\n",
       "    </tr>\n",
       "    <tr>\n",
       "      <th>4</th>\n",
       "      <td>5</td>\n",
       "      <td>Overland Park</td>\n",
       "      <td>Kansas</td>\n",
       "      <td>Region 2</td>\n",
       "      <td>Old</td>\n",
       "      <td>2869</td>\n",
       "      <td>59887</td>\n",
       "    </tr>\n",
       "    <tr>\n",
       "      <th>...</th>\n",
       "      <td>...</td>\n",
       "      <td>...</td>\n",
       "      <td>...</td>\n",
       "      <td>...</td>\n",
       "      <td>...</td>\n",
       "      <td>...</td>\n",
       "      <td>...</td>\n",
       "    </tr>\n",
       "    <tr>\n",
       "      <th>145</th>\n",
       "      <td>146</td>\n",
       "      <td>Paterson</td>\n",
       "      <td>New Jersey</td>\n",
       "      <td>Region 1</td>\n",
       "      <td>New</td>\n",
       "      <td>2251</td>\n",
       "      <td>34603</td>\n",
       "    </tr>\n",
       "    <tr>\n",
       "      <th>146</th>\n",
       "      <td>147</td>\n",
       "      <td>Brownsville</td>\n",
       "      <td>Texas</td>\n",
       "      <td>Region 2</td>\n",
       "      <td>New</td>\n",
       "      <td>3675</td>\n",
       "      <td>63148</td>\n",
       "    </tr>\n",
       "    <tr>\n",
       "      <th>147</th>\n",
       "      <td>148</td>\n",
       "      <td>Rockford</td>\n",
       "      <td>Illinois</td>\n",
       "      <td>Region 1</td>\n",
       "      <td>New</td>\n",
       "      <td>2648</td>\n",
       "      <td>43377</td>\n",
       "    </tr>\n",
       "    <tr>\n",
       "      <th>148</th>\n",
       "      <td>149</td>\n",
       "      <td>College Station</td>\n",
       "      <td>Texas</td>\n",
       "      <td>Region 2</td>\n",
       "      <td>New</td>\n",
       "      <td>2994</td>\n",
       "      <td>22457</td>\n",
       "    </tr>\n",
       "    <tr>\n",
       "      <th>149</th>\n",
       "      <td>150</td>\n",
       "      <td>Thousand Oaks</td>\n",
       "      <td>California</td>\n",
       "      <td>Region 2</td>\n",
       "      <td>New</td>\n",
       "      <td>2431</td>\n",
       "      <td>40141</td>\n",
       "    </tr>\n",
       "  </tbody>\n",
       "</table>\n",
       "<p>150 rows × 7 columns</p>\n",
       "</div>"
      ],
      "text/plain": [
       "     Store ID             City       State Sales Region New Expansion  \\\n",
       "0           1           Peoria     Arizona     Region 2           Old   \n",
       "1           2          Midland       Texas     Region 2           Old   \n",
       "2           3          Spokane  Washington     Region 2           Old   \n",
       "3           4           Denton       Texas     Region 2           Old   \n",
       "4           5    Overland Park      Kansas     Region 2           Old   \n",
       "..        ...              ...         ...          ...           ...   \n",
       "145       146         Paterson  New Jersey     Region 1           New   \n",
       "146       147      Brownsville       Texas     Region 2           New   \n",
       "147       148         Rockford    Illinois     Region 1           New   \n",
       "148       149  College Station       Texas     Region 2           New   \n",
       "149       150    Thousand Oaks  California     Region 2           New   \n",
       "\n",
       "     Marketing Spend  Revenue  \n",
       "0               2601    48610  \n",
       "1               2727    45689  \n",
       "2               2768    49554  \n",
       "3               2759    38284  \n",
       "4               2869    59887  \n",
       "..               ...      ...  \n",
       "145             2251    34603  \n",
       "146             3675    63148  \n",
       "147             2648    43377  \n",
       "148             2994    22457  \n",
       "149             2431    40141  \n",
       "\n",
       "[150 rows x 7 columns]"
      ]
     },
     "execution_count": 5,
     "metadata": {},
     "output_type": "execute_result"
    }
   ],
   "source": [
    "startup"
   ]
  },
  {
   "cell_type": "code",
   "execution_count": 6,
   "id": "f0f27918",
   "metadata": {
    "execution": {
     "iopub.execute_input": "2024-05-08T20:34:28.919413Z",
     "iopub.status.busy": "2024-05-08T20:34:28.918914Z",
     "iopub.status.idle": "2024-05-08T20:34:28.930849Z",
     "shell.execute_reply": "2024-05-08T20:34:28.929713Z"
    },
    "papermill": {
     "duration": 0.030109,
     "end_time": "2024-05-08T20:34:28.933383",
     "exception": false,
     "start_time": "2024-05-08T20:34:28.903274",
     "status": "completed"
    },
    "tags": []
   },
   "outputs": [
    {
     "data": {
      "text/plain": [
       "<bound method DataFrame.info of      Store ID             City       State Sales Region New Expansion  \\\n",
       "0           1           Peoria     Arizona     Region 2           Old   \n",
       "1           2          Midland       Texas     Region 2           Old   \n",
       "2           3          Spokane  Washington     Region 2           Old   \n",
       "3           4           Denton       Texas     Region 2           Old   \n",
       "4           5    Overland Park      Kansas     Region 2           Old   \n",
       "..        ...              ...         ...          ...           ...   \n",
       "145       146         Paterson  New Jersey     Region 1           New   \n",
       "146       147      Brownsville       Texas     Region 2           New   \n",
       "147       148         Rockford    Illinois     Region 1           New   \n",
       "148       149  College Station       Texas     Region 2           New   \n",
       "149       150    Thousand Oaks  California     Region 2           New   \n",
       "\n",
       "     Marketing Spend  Revenue  \n",
       "0               2601    48610  \n",
       "1               2727    45689  \n",
       "2               2768    49554  \n",
       "3               2759    38284  \n",
       "4               2869    59887  \n",
       "..               ...      ...  \n",
       "145             2251    34603  \n",
       "146             3675    63148  \n",
       "147             2648    43377  \n",
       "148             2994    22457  \n",
       "149             2431    40141  \n",
       "\n",
       "[150 rows x 7 columns]>"
      ]
     },
     "execution_count": 6,
     "metadata": {},
     "output_type": "execute_result"
    }
   ],
   "source": [
    "startup.info"
   ]
  },
  {
   "cell_type": "code",
   "execution_count": 7,
   "id": "b1eb1e71",
   "metadata": {
    "execution": {
     "iopub.execute_input": "2024-05-08T20:34:28.964454Z",
     "iopub.status.busy": "2024-05-08T20:34:28.964002Z",
     "iopub.status.idle": "2024-05-08T20:34:28.992727Z",
     "shell.execute_reply": "2024-05-08T20:34:28.991467Z"
    },
    "papermill": {
     "duration": 0.047883,
     "end_time": "2024-05-08T20:34:28.995750",
     "exception": false,
     "start_time": "2024-05-08T20:34:28.947867",
     "status": "completed"
    },
    "tags": []
   },
   "outputs": [
    {
     "data": {
      "text/html": [
       "<div>\n",
       "<style scoped>\n",
       "    .dataframe tbody tr th:only-of-type {\n",
       "        vertical-align: middle;\n",
       "    }\n",
       "\n",
       "    .dataframe tbody tr th {\n",
       "        vertical-align: top;\n",
       "    }\n",
       "\n",
       "    .dataframe thead th {\n",
       "        text-align: right;\n",
       "    }\n",
       "</style>\n",
       "<table border=\"1\" class=\"dataframe\">\n",
       "  <thead>\n",
       "    <tr style=\"text-align: right;\">\n",
       "      <th></th>\n",
       "      <th>Marketing Spend</th>\n",
       "      <th>Revenue</th>\n",
       "    </tr>\n",
       "  </thead>\n",
       "  <tbody>\n",
       "    <tr>\n",
       "      <th>count</th>\n",
       "      <td>150.00</td>\n",
       "      <td>150.00</td>\n",
       "    </tr>\n",
       "    <tr>\n",
       "      <th>mean</th>\n",
       "      <td>2893.15</td>\n",
       "      <td>39301.43</td>\n",
       "    </tr>\n",
       "    <tr>\n",
       "      <th>std</th>\n",
       "      <td>367.86</td>\n",
       "      <td>15465.75</td>\n",
       "    </tr>\n",
       "    <tr>\n",
       "      <th>min</th>\n",
       "      <td>1811.00</td>\n",
       "      <td>15562.00</td>\n",
       "    </tr>\n",
       "    <tr>\n",
       "      <th>25%</th>\n",
       "      <td>2662.25</td>\n",
       "      <td>21113.50</td>\n",
       "    </tr>\n",
       "    <tr>\n",
       "      <th>50%</th>\n",
       "      <td>2898.00</td>\n",
       "      <td>42993.00</td>\n",
       "    </tr>\n",
       "    <tr>\n",
       "      <th>75%</th>\n",
       "      <td>3111.50</td>\n",
       "      <td>51145.50</td>\n",
       "    </tr>\n",
       "    <tr>\n",
       "      <th>max</th>\n",
       "      <td>3984.00</td>\n",
       "      <td>68828.00</td>\n",
       "    </tr>\n",
       "  </tbody>\n",
       "</table>\n",
       "</div>"
      ],
      "text/plain": [
       "       Marketing Spend   Revenue\n",
       "count           150.00    150.00\n",
       "mean           2893.15  39301.43\n",
       "std             367.86  15465.75\n",
       "min            1811.00  15562.00\n",
       "25%            2662.25  21113.50\n",
       "50%            2898.00  42993.00\n",
       "75%            3111.50  51145.50\n",
       "max            3984.00  68828.00"
      ]
     },
     "execution_count": 7,
     "metadata": {},
     "output_type": "execute_result"
    }
   ],
   "source": [
    "startup[[('Marketing Spend'),('Revenue')]].describe().round(2)"
   ]
  },
  {
   "cell_type": "markdown",
   "id": "0324e8a4",
   "metadata": {
    "papermill": {
     "duration": 0.01481,
     "end_time": "2024-05-08T20:34:29.025914",
     "exception": false,
     "start_time": "2024-05-08T20:34:29.011104",
     "status": "completed"
    },
    "tags": []
   },
   "source": [
    "## Preprossing Data"
   ]
  },
  {
   "cell_type": "code",
   "execution_count": 8,
   "id": "69bb1f03",
   "metadata": {
    "execution": {
     "iopub.execute_input": "2024-05-08T20:34:29.058387Z",
     "iopub.status.busy": "2024-05-08T20:34:29.057871Z",
     "iopub.status.idle": "2024-05-08T20:34:29.069751Z",
     "shell.execute_reply": "2024-05-08T20:34:29.068232Z"
    },
    "papermill": {
     "duration": 0.030623,
     "end_time": "2024-05-08T20:34:29.072270",
     "exception": false,
     "start_time": "2024-05-08T20:34:29.041647",
     "status": "completed"
    },
    "tags": []
   },
   "outputs": [
    {
     "data": {
      "text/plain": [
       "149"
      ]
     },
     "execution_count": 8,
     "metadata": {},
     "output_type": "execute_result"
    }
   ],
   "source": [
    "startup['City'].nunique()"
   ]
  },
  {
   "cell_type": "code",
   "execution_count": 9,
   "id": "1b58716b",
   "metadata": {
    "execution": {
     "iopub.execute_input": "2024-05-08T20:34:29.104570Z",
     "iopub.status.busy": "2024-05-08T20:34:29.104093Z",
     "iopub.status.idle": "2024-05-08T20:34:29.113914Z",
     "shell.execute_reply": "2024-05-08T20:34:29.112498Z"
    },
    "papermill": {
     "duration": 0.028426,
     "end_time": "2024-05-08T20:34:29.116270",
     "exception": false,
     "start_time": "2024-05-08T20:34:29.087844",
     "status": "completed"
    },
    "tags": []
   },
   "outputs": [
    {
     "data": {
      "text/plain": [
       "array(['Peoria', 'Midland', 'Spokane', 'Denton', 'Overland Park',\n",
       "       'Yonkers', 'Birmingham', 'Antioch', 'Worcester', 'Rochester',\n",
       "       'Rialto', 'Santa Maria', 'Las Cruces', 'Jackson', 'Hillsboro',\n",
       "       'Temecula', 'Tallahassee', 'Fontana', 'Kent', 'Broken Arrow',\n",
       "       'Concord', 'Modesto', 'Montgomery', 'Burbank', 'Elk Grove',\n",
       "       'Port St. Lucie', 'Elizabeth', 'Salt Lake City', 'Waco', 'Edison',\n",
       "       'Boulder', 'Grand Rapids', 'Tyler', 'Charleston', 'Huntsville',\n",
       "       'Pearland', 'Inglewood', 'Oxnard', 'Miramar', 'Cape Coral',\n",
       "       'Syracuse', 'Newport News', 'Lewisville', 'Carrollton',\n",
       "       'San Bernardino', 'Pasadena', 'Roseville', 'Murrieta',\n",
       "       'San Angelo', 'Olathe', 'Akron', 'Fullerton', 'Manchester',\n",
       "       'Everett', 'West Covina', 'Thornton', 'Hampton', 'Waterbury',\n",
       "       'Ventura', 'Davenport', 'Columbia', 'Simi Valley', 'Richmond',\n",
       "       'Little Rock', 'El Cajon', 'Santa Clara', 'Oceanside', 'Davie',\n",
       "       'Lakeland', 'Centennial', 'Lowell', 'Ontario', 'Palm Bay',\n",
       "       'Murfreesboro', 'Vancouver', 'Topeka', 'West Valley City',\n",
       "       'New Haven', 'Pueblo', 'Costa Mesa', 'Garden Grove',\n",
       "       'Fort Lauderdale', 'North Charleston', 'Cambridge', 'Greeley',\n",
       "       'Gresham', 'Amarillo', 'High Point', 'Vista', 'Tacoma', 'Mesquite',\n",
       "       'Augusta', 'Elgin', 'Aurora', 'Gainesville', 'Dayton',\n",
       "       'Wichita Falls', 'Naperville', 'Clovis', 'Billings', 'Surprise',\n",
       "       'Coral Springs', 'Visalia', 'Killeen', 'Orange', 'Richardson',\n",
       "       'South Bend', 'Fayetteville', 'Sioux Falls', 'Grand Prairie',\n",
       "       'Stamford', 'West Palm Beach', 'Knoxville', 'Renton', 'McAllen',\n",
       "       'Woodbridge', 'Shreveport', 'Bellevue', 'Huntington Beach',\n",
       "       'Santa Clarita', 'Sterling Heights', 'Mobile', 'Bridgeport',\n",
       "       'Daly City', 'Sandy Springs', 'Cedar Rapids', 'Columbus',\n",
       "       'Moreno Valley', 'Pompano Beach', 'Savannah', 'West Jordan',\n",
       "       'Des Moines', 'Green Bay', 'Santa Rosa', 'San Mateo', 'Warren',\n",
       "       'Norwalk', 'Lafayette', 'Providence', 'Chattanooga', 'Tempe',\n",
       "       'Joliet', 'Rancho Cucamonga', 'Glendale', 'Paterson',\n",
       "       'Brownsville', 'Rockford', 'College Station', 'Thousand Oaks'],\n",
       "      dtype=object)"
      ]
     },
     "execution_count": 9,
     "metadata": {},
     "output_type": "execute_result"
    }
   ],
   "source": [
    "startup['City'].unique()"
   ]
  },
  {
   "cell_type": "code",
   "execution_count": 10,
   "id": "0d0ab0ba",
   "metadata": {
    "execution": {
     "iopub.execute_input": "2024-05-08T20:34:29.149085Z",
     "iopub.status.busy": "2024-05-08T20:34:29.148635Z",
     "iopub.status.idle": "2024-05-08T20:34:29.166023Z",
     "shell.execute_reply": "2024-05-08T20:34:29.164547Z"
    },
    "papermill": {
     "duration": 0.036589,
     "end_time": "2024-05-08T20:34:29.168425",
     "exception": false,
     "start_time": "2024-05-08T20:34:29.131836",
     "status": "completed"
    },
    "tags": []
   },
   "outputs": [
    {
     "data": {
      "text/plain": [
       "City\n",
       "Rochester        2\n",
       "Killeen          1\n",
       "Wichita Falls    1\n",
       "Naperville       1\n",
       "Clovis           1\n",
       "                ..\n",
       "Akron            1\n",
       "Fullerton        1\n",
       "Manchester       1\n",
       "Everett          1\n",
       "Thousand Oaks    1\n",
       "Name: count, Length: 149, dtype: int64"
      ]
     },
     "execution_count": 10,
     "metadata": {},
     "output_type": "execute_result"
    }
   ],
   "source": [
    "startup['City'].value_counts()"
   ]
  },
  {
   "cell_type": "code",
   "execution_count": 11,
   "id": "9cce9b79",
   "metadata": {
    "execution": {
     "iopub.execute_input": "2024-05-08T20:34:29.205620Z",
     "iopub.status.busy": "2024-05-08T20:34:29.205122Z",
     "iopub.status.idle": "2024-05-08T20:34:29.214275Z",
     "shell.execute_reply": "2024-05-08T20:34:29.213266Z"
    },
    "papermill": {
     "duration": 0.033487,
     "end_time": "2024-05-08T20:34:29.219374",
     "exception": false,
     "start_time": "2024-05-08T20:34:29.185887",
     "status": "completed"
    },
    "tags": []
   },
   "outputs": [
    {
     "data": {
      "text/plain": [
       "35"
      ]
     },
     "execution_count": 11,
     "metadata": {},
     "output_type": "execute_result"
    }
   ],
   "source": [
    "startup['State'].nunique()"
   ]
  },
  {
   "cell_type": "code",
   "execution_count": 12,
   "id": "612d8f69",
   "metadata": {
    "execution": {
     "iopub.execute_input": "2024-05-08T20:34:29.259527Z",
     "iopub.status.busy": "2024-05-08T20:34:29.259090Z",
     "iopub.status.idle": "2024-05-08T20:34:29.266961Z",
     "shell.execute_reply": "2024-05-08T20:34:29.265783Z"
    },
    "papermill": {
     "duration": 0.028903,
     "end_time": "2024-05-08T20:34:29.269727",
     "exception": false,
     "start_time": "2024-05-08T20:34:29.240824",
     "status": "completed"
    },
    "tags": []
   },
   "outputs": [
    {
     "data": {
      "text/plain": [
       "array(['Arizona', 'Texas', 'Washington', 'Kansas', 'New York', 'Alabama',\n",
       "       'California', 'Massachusetts', 'New Mexico', 'Mississippi',\n",
       "       'Oregon', 'Florida', 'Oklahoma', 'New Jersey', 'Utah', 'Colorado',\n",
       "       'Michigan', 'South Carolina', 'Virginia', 'Ohio', 'New Hampshire',\n",
       "       'Connecticut', 'Iowa', 'Arkansas', 'Tennessee', 'North Carolina',\n",
       "       'Georgia', 'Illinois', 'Montana', 'Indiana', 'South Dakota',\n",
       "       'Louisiana', 'Minnesota', 'Wisconsin', 'Rhode Island'],\n",
       "      dtype=object)"
      ]
     },
     "execution_count": 12,
     "metadata": {},
     "output_type": "execute_result"
    }
   ],
   "source": [
    "startup['State'].unique()"
   ]
  },
  {
   "cell_type": "code",
   "execution_count": 13,
   "id": "aebaddc8",
   "metadata": {
    "execution": {
     "iopub.execute_input": "2024-05-08T20:34:29.304842Z",
     "iopub.status.busy": "2024-05-08T20:34:29.304421Z",
     "iopub.status.idle": "2024-05-08T20:34:29.316296Z",
     "shell.execute_reply": "2024-05-08T20:34:29.314728Z"
    },
    "papermill": {
     "duration": 0.03225,
     "end_time": "2024-05-08T20:34:29.319314",
     "exception": false,
     "start_time": "2024-05-08T20:34:29.287064",
     "status": "completed"
    },
    "tags": []
   },
   "outputs": [
    {
     "data": {
      "text/plain": [
       "State\n",
       "California        40\n",
       "Texas             17\n",
       "Florida           12\n",
       "Washington         7\n",
       "Colorado           5\n",
       "Illinois           5\n",
       "Georgia            4\n",
       "Alabama            4\n",
       "Connecticut        4\n",
       "New Jersey         4\n",
       "Arizona            3\n",
       "Tennessee          3\n",
       "Iowa               3\n",
       "Michigan           3\n",
       "South Carolina     3\n",
       "Utah               3\n",
       "Massachusetts      3\n",
       "Kansas             3\n",
       "New York           3\n",
       "Louisiana          2\n",
       "North Carolina     2\n",
       "Ohio               2\n",
       "Virginia           2\n",
       "Oregon             2\n",
       "Mississippi        1\n",
       "New Mexico         1\n",
       "Arkansas           1\n",
       "New Hampshire      1\n",
       "Oklahoma           1\n",
       "Montana            1\n",
       "Indiana            1\n",
       "South Dakota       1\n",
       "Minnesota          1\n",
       "Wisconsin          1\n",
       "Rhode Island       1\n",
       "Name: count, dtype: int64"
      ]
     },
     "execution_count": 13,
     "metadata": {},
     "output_type": "execute_result"
    }
   ],
   "source": [
    "startup['State'].value_counts()"
   ]
  },
  {
   "cell_type": "code",
   "execution_count": 14,
   "id": "53f98f8d",
   "metadata": {
    "execution": {
     "iopub.execute_input": "2024-05-08T20:34:29.353435Z",
     "iopub.status.busy": "2024-05-08T20:34:29.352989Z",
     "iopub.status.idle": "2024-05-08T20:34:29.361622Z",
     "shell.execute_reply": "2024-05-08T20:34:29.360284Z"
    },
    "papermill": {
     "duration": 0.02912,
     "end_time": "2024-05-08T20:34:29.364032",
     "exception": false,
     "start_time": "2024-05-08T20:34:29.334912",
     "status": "completed"
    },
    "tags": []
   },
   "outputs": [
    {
     "data": {
      "text/plain": [
       "array(['Region 2', 'Region 1'], dtype=object)"
      ]
     },
     "execution_count": 14,
     "metadata": {},
     "output_type": "execute_result"
    }
   ],
   "source": [
    "startup['Sales Region'].unique()"
   ]
  },
  {
   "cell_type": "code",
   "execution_count": 15,
   "id": "fb792961",
   "metadata": {
    "execution": {
     "iopub.execute_input": "2024-05-08T20:34:29.399019Z",
     "iopub.status.busy": "2024-05-08T20:34:29.398607Z",
     "iopub.status.idle": "2024-05-08T20:34:29.409427Z",
     "shell.execute_reply": "2024-05-08T20:34:29.407613Z"
    },
    "papermill": {
     "duration": 0.032598,
     "end_time": "2024-05-08T20:34:29.413043",
     "exception": false,
     "start_time": "2024-05-08T20:34:29.380445",
     "status": "completed"
    },
    "tags": []
   },
   "outputs": [
    {
     "data": {
      "text/plain": [
       "Sales Region\n",
       "Region 2    86\n",
       "Region 1    64\n",
       "Name: count, dtype: int64"
      ]
     },
     "execution_count": 15,
     "metadata": {},
     "output_type": "execute_result"
    }
   ],
   "source": [
    "startup['Sales Region'].value_counts()"
   ]
  },
  {
   "cell_type": "code",
   "execution_count": 16,
   "id": "b15ba808",
   "metadata": {
    "execution": {
     "iopub.execute_input": "2024-05-08T20:34:29.450025Z",
     "iopub.status.busy": "2024-05-08T20:34:29.449444Z",
     "iopub.status.idle": "2024-05-08T20:34:29.461769Z",
     "shell.execute_reply": "2024-05-08T20:34:29.459949Z"
    },
    "papermill": {
     "duration": 0.034992,
     "end_time": "2024-05-08T20:34:29.464929",
     "exception": false,
     "start_time": "2024-05-08T20:34:29.429937",
     "status": "completed"
    },
    "tags": []
   },
   "outputs": [
    {
     "data": {
      "text/plain": [
       "array(['Old', 'New'], dtype=object)"
      ]
     },
     "execution_count": 16,
     "metadata": {},
     "output_type": "execute_result"
    }
   ],
   "source": [
    "startup['New Expansion'].unique()"
   ]
  },
  {
   "cell_type": "code",
   "execution_count": 17,
   "id": "01aba623",
   "metadata": {
    "execution": {
     "iopub.execute_input": "2024-05-08T20:34:29.500902Z",
     "iopub.status.busy": "2024-05-08T20:34:29.500453Z",
     "iopub.status.idle": "2024-05-08T20:34:29.510275Z",
     "shell.execute_reply": "2024-05-08T20:34:29.509274Z"
    },
    "papermill": {
     "duration": 0.031195,
     "end_time": "2024-05-08T20:34:29.512901",
     "exception": false,
     "start_time": "2024-05-08T20:34:29.481706",
     "status": "completed"
    },
    "tags": []
   },
   "outputs": [
    {
     "data": {
      "text/plain": [
       "New Expansion\n",
       "Old    140\n",
       "New     10\n",
       "Name: count, dtype: int64"
      ]
     },
     "execution_count": 17,
     "metadata": {},
     "output_type": "execute_result"
    }
   ],
   "source": [
    "startup['New Expansion'].value_counts()"
   ]
  },
  {
   "cell_type": "code",
   "execution_count": 18,
   "id": "5cd20579",
   "metadata": {
    "execution": {
     "iopub.execute_input": "2024-05-08T20:34:29.548250Z",
     "iopub.status.busy": "2024-05-08T20:34:29.547774Z",
     "iopub.status.idle": "2024-05-08T20:34:29.557853Z",
     "shell.execute_reply": "2024-05-08T20:34:29.556703Z"
    },
    "papermill": {
     "duration": 0.030875,
     "end_time": "2024-05-08T20:34:29.560574",
     "exception": false,
     "start_time": "2024-05-08T20:34:29.529699",
     "status": "completed"
    },
    "tags": []
   },
   "outputs": [
    {
     "data": {
      "text/plain": [
       "Store ID           0\n",
       "City               0\n",
       "State              0\n",
       "Sales Region       0\n",
       "New Expansion      0\n",
       "Marketing Spend    0\n",
       "Revenue            0\n",
       "dtype: int64"
      ]
     },
     "execution_count": 18,
     "metadata": {},
     "output_type": "execute_result"
    }
   ],
   "source": [
    "startup.isna().sum()"
   ]
  },
  {
   "cell_type": "code",
   "execution_count": 19,
   "id": "78da69cb",
   "metadata": {
    "execution": {
     "iopub.execute_input": "2024-05-08T20:34:29.596419Z",
     "iopub.status.busy": "2024-05-08T20:34:29.595205Z",
     "iopub.status.idle": "2024-05-08T20:34:29.605067Z",
     "shell.execute_reply": "2024-05-08T20:34:29.604112Z"
    },
    "papermill": {
     "duration": 0.030109,
     "end_time": "2024-05-08T20:34:29.607569",
     "exception": false,
     "start_time": "2024-05-08T20:34:29.577460",
     "status": "completed"
    },
    "tags": []
   },
   "outputs": [
    {
     "data": {
      "text/plain": [
       "0"
      ]
     },
     "execution_count": 19,
     "metadata": {},
     "output_type": "execute_result"
    }
   ],
   "source": [
    "startup.duplicated().sum()"
   ]
  },
  {
   "cell_type": "code",
   "execution_count": 20,
   "id": "9a605db7",
   "metadata": {
    "execution": {
     "iopub.execute_input": "2024-05-08T20:34:29.642755Z",
     "iopub.status.busy": "2024-05-08T20:34:29.642345Z",
     "iopub.status.idle": "2024-05-08T20:34:29.654857Z",
     "shell.execute_reply": "2024-05-08T20:34:29.653589Z"
    },
    "papermill": {
     "duration": 0.033382,
     "end_time": "2024-05-08T20:34:29.657652",
     "exception": false,
     "start_time": "2024-05-08T20:34:29.624270",
     "status": "completed"
    },
    "tags": []
   },
   "outputs": [
    {
     "data": {
      "text/plain": [
       "Store ID\n",
       "1      1\n",
       "95     1\n",
       "97     1\n",
       "98     1\n",
       "99     1\n",
       "      ..\n",
       "51     1\n",
       "52     1\n",
       "53     1\n",
       "54     1\n",
       "150    1\n",
       "Name: count, Length: 150, dtype: int64"
      ]
     },
     "execution_count": 20,
     "metadata": {},
     "output_type": "execute_result"
    }
   ],
   "source": [
    "startup['Store ID'].value_counts()"
   ]
  },
  {
   "cell_type": "code",
   "execution_count": 21,
   "id": "0b88076c",
   "metadata": {
    "execution": {
     "iopub.execute_input": "2024-05-08T20:34:29.693670Z",
     "iopub.status.busy": "2024-05-08T20:34:29.693216Z",
     "iopub.status.idle": "2024-05-08T20:34:29.701614Z",
     "shell.execute_reply": "2024-05-08T20:34:29.700458Z"
    },
    "papermill": {
     "duration": 0.029553,
     "end_time": "2024-05-08T20:34:29.704505",
     "exception": false,
     "start_time": "2024-05-08T20:34:29.674952",
     "status": "completed"
    },
    "tags": []
   },
   "outputs": [
    {
     "data": {
      "text/plain": [
       "150"
      ]
     },
     "execution_count": 21,
     "metadata": {},
     "output_type": "execute_result"
    }
   ],
   "source": [
    "len(startup['Store ID'].value_counts())"
   ]
  },
  {
   "cell_type": "markdown",
   "id": "1a90606b",
   "metadata": {
    "papermill": {
     "duration": 0.016355,
     "end_time": "2024-05-08T20:34:29.737681",
     "exception": false,
     "start_time": "2024-05-08T20:34:29.721326",
     "status": "completed"
    },
    "tags": []
   },
   "source": [
    "## Exploring & Analysis Data"
   ]
  },
  {
   "cell_type": "code",
   "execution_count": 22,
   "id": "103ee40d",
   "metadata": {
    "execution": {
     "iopub.execute_input": "2024-05-08T20:34:29.840315Z",
     "iopub.status.busy": "2024-05-08T20:34:29.839876Z",
     "iopub.status.idle": "2024-05-08T20:34:29.858467Z",
     "shell.execute_reply": "2024-05-08T20:34:29.857355Z"
    },
    "papermill": {
     "duration": 0.106377,
     "end_time": "2024-05-08T20:34:29.860986",
     "exception": false,
     "start_time": "2024-05-08T20:34:29.754609",
     "status": "completed"
    },
    "tags": []
   },
   "outputs": [
    {
     "data": {
      "text/html": [
       "<div>\n",
       "<style scoped>\n",
       "    .dataframe tbody tr th:only-of-type {\n",
       "        vertical-align: middle;\n",
       "    }\n",
       "\n",
       "    .dataframe tbody tr th {\n",
       "        vertical-align: top;\n",
       "    }\n",
       "\n",
       "    .dataframe thead th {\n",
       "        text-align: right;\n",
       "    }\n",
       "</style>\n",
       "<table border=\"1\" class=\"dataframe\">\n",
       "  <thead>\n",
       "    <tr style=\"text-align: right;\">\n",
       "      <th></th>\n",
       "      <th>Store ID</th>\n",
       "      <th>City</th>\n",
       "      <th>State</th>\n",
       "      <th>Sales Region</th>\n",
       "      <th>New Expansion</th>\n",
       "      <th>Marketing Spend</th>\n",
       "      <th>Revenue</th>\n",
       "    </tr>\n",
       "  </thead>\n",
       "  <tbody>\n",
       "    <tr>\n",
       "      <th>67</th>\n",
       "      <td>68</td>\n",
       "      <td>Davie</td>\n",
       "      <td>Florida</td>\n",
       "      <td>Region 1</td>\n",
       "      <td>Old</td>\n",
       "      <td>3177</td>\n",
       "      <td>45418</td>\n",
       "    </tr>\n",
       "    <tr>\n",
       "      <th>9</th>\n",
       "      <td>10</td>\n",
       "      <td>Rochester</td>\n",
       "      <td>New York</td>\n",
       "      <td>Region 1</td>\n",
       "      <td>Old</td>\n",
       "      <td>2984</td>\n",
       "      <td>64906</td>\n",
       "    </tr>\n",
       "    <tr>\n",
       "      <th>136</th>\n",
       "      <td>137</td>\n",
       "      <td>Warren</td>\n",
       "      <td>Michigan</td>\n",
       "      <td>Region 1</td>\n",
       "      <td>Old</td>\n",
       "      <td>2736</td>\n",
       "      <td>47262</td>\n",
       "    </tr>\n",
       "    <tr>\n",
       "      <th>8</th>\n",
       "      <td>9</td>\n",
       "      <td>Worcester</td>\n",
       "      <td>Massachusetts</td>\n",
       "      <td>Region 1</td>\n",
       "      <td>Old</td>\n",
       "      <td>2675</td>\n",
       "      <td>59840</td>\n",
       "    </tr>\n",
       "    <tr>\n",
       "      <th>97</th>\n",
       "      <td>98</td>\n",
       "      <td>Naperville</td>\n",
       "      <td>Illinois</td>\n",
       "      <td>Region 1</td>\n",
       "      <td>Old</td>\n",
       "      <td>2699</td>\n",
       "      <td>39856</td>\n",
       "    </tr>\n",
       "    <tr>\n",
       "      <th>6</th>\n",
       "      <td>7</td>\n",
       "      <td>Birmingham</td>\n",
       "      <td>Alabama</td>\n",
       "      <td>Region 1</td>\n",
       "      <td>Old</td>\n",
       "      <td>3110</td>\n",
       "      <td>60338</td>\n",
       "    </tr>\n",
       "    <tr>\n",
       "      <th>109</th>\n",
       "      <td>110</td>\n",
       "      <td>Grand Prairie</td>\n",
       "      <td>Texas</td>\n",
       "      <td>Region 2</td>\n",
       "      <td>Old</td>\n",
       "      <td>3131</td>\n",
       "      <td>50895</td>\n",
       "    </tr>\n",
       "    <tr>\n",
       "      <th>125</th>\n",
       "      <td>126</td>\n",
       "      <td>Sandy Springs</td>\n",
       "      <td>Georgia</td>\n",
       "      <td>Region 1</td>\n",
       "      <td>Old</td>\n",
       "      <td>2759</td>\n",
       "      <td>18942</td>\n",
       "    </tr>\n",
       "    <tr>\n",
       "      <th>23</th>\n",
       "      <td>24</td>\n",
       "      <td>Burbank</td>\n",
       "      <td>California</td>\n",
       "      <td>Region 2</td>\n",
       "      <td>Old</td>\n",
       "      <td>3679</td>\n",
       "      <td>20123</td>\n",
       "    </tr>\n",
       "    <tr>\n",
       "      <th>106</th>\n",
       "      <td>107</td>\n",
       "      <td>South Bend</td>\n",
       "      <td>Indiana</td>\n",
       "      <td>Region 1</td>\n",
       "      <td>Old</td>\n",
       "      <td>3005</td>\n",
       "      <td>21953</td>\n",
       "    </tr>\n",
       "    <tr>\n",
       "      <th>43</th>\n",
       "      <td>44</td>\n",
       "      <td>Carrollton</td>\n",
       "      <td>Texas</td>\n",
       "      <td>Region 2</td>\n",
       "      <td>Old</td>\n",
       "      <td>3146</td>\n",
       "      <td>49191</td>\n",
       "    </tr>\n",
       "    <tr>\n",
       "      <th>44</th>\n",
       "      <td>45</td>\n",
       "      <td>San Bernardino</td>\n",
       "      <td>California</td>\n",
       "      <td>Region 2</td>\n",
       "      <td>Old</td>\n",
       "      <td>3399</td>\n",
       "      <td>59870</td>\n",
       "    </tr>\n",
       "    <tr>\n",
       "      <th>147</th>\n",
       "      <td>148</td>\n",
       "      <td>Rockford</td>\n",
       "      <td>Illinois</td>\n",
       "      <td>Region 1</td>\n",
       "      <td>New</td>\n",
       "      <td>2648</td>\n",
       "      <td>43377</td>\n",
       "    </tr>\n",
       "    <tr>\n",
       "      <th>73</th>\n",
       "      <td>74</td>\n",
       "      <td>Murfreesboro</td>\n",
       "      <td>Tennessee</td>\n",
       "      <td>Region 2</td>\n",
       "      <td>Old</td>\n",
       "      <td>2777</td>\n",
       "      <td>40545</td>\n",
       "    </tr>\n",
       "    <tr>\n",
       "      <th>47</th>\n",
       "      <td>48</td>\n",
       "      <td>Murrieta</td>\n",
       "      <td>California</td>\n",
       "      <td>Region 2</td>\n",
       "      <td>Old</td>\n",
       "      <td>2344</td>\n",
       "      <td>16372</td>\n",
       "    </tr>\n",
       "  </tbody>\n",
       "</table>\n",
       "</div>"
      ],
      "text/plain": [
       "     Store ID            City          State Sales Region New Expansion  \\\n",
       "67         68           Davie        Florida     Region 1           Old   \n",
       "9          10       Rochester       New York     Region 1           Old   \n",
       "136       137          Warren       Michigan     Region 1           Old   \n",
       "8           9       Worcester  Massachusetts     Region 1           Old   \n",
       "97         98      Naperville       Illinois     Region 1           Old   \n",
       "6           7      Birmingham        Alabama     Region 1           Old   \n",
       "109       110   Grand Prairie          Texas     Region 2           Old   \n",
       "125       126   Sandy Springs        Georgia     Region 1           Old   \n",
       "23         24         Burbank     California     Region 2           Old   \n",
       "106       107      South Bend        Indiana     Region 1           Old   \n",
       "43         44      Carrollton          Texas     Region 2           Old   \n",
       "44         45  San Bernardino     California     Region 2           Old   \n",
       "147       148        Rockford       Illinois     Region 1           New   \n",
       "73         74    Murfreesboro      Tennessee     Region 2           Old   \n",
       "47         48        Murrieta     California     Region 2           Old   \n",
       "\n",
       "     Marketing Spend  Revenue  \n",
       "67              3177    45418  \n",
       "9               2984    64906  \n",
       "136             2736    47262  \n",
       "8               2675    59840  \n",
       "97              2699    39856  \n",
       "6               3110    60338  \n",
       "109             3131    50895  \n",
       "125             2759    18942  \n",
       "23              3679    20123  \n",
       "106             3005    21953  \n",
       "43              3146    49191  \n",
       "44              3399    59870  \n",
       "147             2648    43377  \n",
       "73              2777    40545  \n",
       "47              2344    16372  "
      ]
     },
     "execution_count": 22,
     "metadata": {},
     "output_type": "execute_result"
    }
   ],
   "source": [
    "startup.sample(15)"
   ]
  },
  {
   "cell_type": "code",
   "execution_count": 23,
   "id": "7ab8cba8",
   "metadata": {
    "execution": {
     "iopub.execute_input": "2024-05-08T20:34:29.900577Z",
     "iopub.status.busy": "2024-05-08T20:34:29.899982Z",
     "iopub.status.idle": "2024-05-08T20:34:29.921739Z",
     "shell.execute_reply": "2024-05-08T20:34:29.920534Z"
    },
    "papermill": {
     "duration": 0.04577,
     "end_time": "2024-05-08T20:34:29.924370",
     "exception": false,
     "start_time": "2024-05-08T20:34:29.878600",
     "status": "completed"
    },
    "tags": []
   },
   "outputs": [
    {
     "data": {
      "text/plain": [
       "State\n",
       "California    141883\n",
       "Illinois       91692\n",
       "Texas          85605\n",
       "Tennessee      55357\n",
       "Arizona        48954\n",
       "New Jersey     34603\n",
       "Name: Revenue, dtype: int64"
      ]
     },
     "execution_count": 23,
     "metadata": {},
     "output_type": "execute_result"
    }
   ],
   "source": [
    "startup[startup['New Expansion'] == 'New'].groupby('State').sum()['Revenue'].nlargest(10)"
   ]
  },
  {
   "cell_type": "code",
   "execution_count": 24,
   "id": "ce6f7962",
   "metadata": {
    "execution": {
     "iopub.execute_input": "2024-05-08T20:34:29.968317Z",
     "iopub.status.busy": "2024-05-08T20:34:29.967821Z",
     "iopub.status.idle": "2024-05-08T20:34:29.983011Z",
     "shell.execute_reply": "2024-05-08T20:34:29.982025Z"
    },
    "papermill": {
     "duration": 0.041637,
     "end_time": "2024-05-08T20:34:29.985353",
     "exception": false,
     "start_time": "2024-05-08T20:34:29.943716",
     "status": "completed"
    },
    "tags": []
   },
   "outputs": [
    {
     "data": {
      "text/plain": [
       "State\n",
       "California     1362468\n",
       "Texas           554964\n",
       "Florida         479023\n",
       "Washington      298013\n",
       "Alabama         221025\n",
       "New York        160046\n",
       "Connecticut     158511\n",
       "Georgia         157656\n",
       "Colorado        156495\n",
       "Michigan        147759\n",
       "Name: Revenue, dtype: int64"
      ]
     },
     "execution_count": 24,
     "metadata": {},
     "output_type": "execute_result"
    }
   ],
   "source": [
    "startup[startup['New Expansion'] == 'Old'].groupby('State').sum()['Revenue'].nlargest(10)"
   ]
  },
  {
   "cell_type": "code",
   "execution_count": 25,
   "id": "4fa759f6",
   "metadata": {
    "execution": {
     "iopub.execute_input": "2024-05-08T20:34:30.022712Z",
     "iopub.status.busy": "2024-05-08T20:34:30.022274Z",
     "iopub.status.idle": "2024-05-08T20:34:30.041484Z",
     "shell.execute_reply": "2024-05-08T20:34:30.039902Z"
    },
    "papermill": {
     "duration": 0.040877,
     "end_time": "2024-05-08T20:34:30.044155",
     "exception": false,
     "start_time": "2024-05-08T20:34:30.003278",
     "status": "completed"
    },
    "tags": []
   },
   "outputs": [
    {
     "data": {
      "text/html": [
       "<div>\n",
       "<style scoped>\n",
       "    .dataframe tbody tr th:only-of-type {\n",
       "        vertical-align: middle;\n",
       "    }\n",
       "\n",
       "    .dataframe tbody tr th {\n",
       "        vertical-align: top;\n",
       "    }\n",
       "\n",
       "    .dataframe thead th {\n",
       "        text-align: right;\n",
       "    }\n",
       "</style>\n",
       "<table border=\"1\" class=\"dataframe\">\n",
       "  <thead>\n",
       "    <tr style=\"text-align: right;\">\n",
       "      <th></th>\n",
       "      <th>Store ID</th>\n",
       "      <th>City</th>\n",
       "      <th>State</th>\n",
       "      <th>Sales Region</th>\n",
       "      <th>New Expansion</th>\n",
       "      <th>Marketing Spend</th>\n",
       "      <th>Revenue</th>\n",
       "      <th>Profit</th>\n",
       "    </tr>\n",
       "  </thead>\n",
       "  <tbody>\n",
       "    <tr>\n",
       "      <th>0</th>\n",
       "      <td>1</td>\n",
       "      <td>Peoria</td>\n",
       "      <td>Arizona</td>\n",
       "      <td>Region 2</td>\n",
       "      <td>Old</td>\n",
       "      <td>2601</td>\n",
       "      <td>48610</td>\n",
       "      <td>46009</td>\n",
       "    </tr>\n",
       "    <tr>\n",
       "      <th>1</th>\n",
       "      <td>2</td>\n",
       "      <td>Midland</td>\n",
       "      <td>Texas</td>\n",
       "      <td>Region 2</td>\n",
       "      <td>Old</td>\n",
       "      <td>2727</td>\n",
       "      <td>45689</td>\n",
       "      <td>42962</td>\n",
       "    </tr>\n",
       "    <tr>\n",
       "      <th>2</th>\n",
       "      <td>3</td>\n",
       "      <td>Spokane</td>\n",
       "      <td>Washington</td>\n",
       "      <td>Region 2</td>\n",
       "      <td>Old</td>\n",
       "      <td>2768</td>\n",
       "      <td>49554</td>\n",
       "      <td>46786</td>\n",
       "    </tr>\n",
       "    <tr>\n",
       "      <th>3</th>\n",
       "      <td>4</td>\n",
       "      <td>Denton</td>\n",
       "      <td>Texas</td>\n",
       "      <td>Region 2</td>\n",
       "      <td>Old</td>\n",
       "      <td>2759</td>\n",
       "      <td>38284</td>\n",
       "      <td>35525</td>\n",
       "    </tr>\n",
       "    <tr>\n",
       "      <th>4</th>\n",
       "      <td>5</td>\n",
       "      <td>Overland Park</td>\n",
       "      <td>Kansas</td>\n",
       "      <td>Region 2</td>\n",
       "      <td>Old</td>\n",
       "      <td>2869</td>\n",
       "      <td>59887</td>\n",
       "      <td>57018</td>\n",
       "    </tr>\n",
       "    <tr>\n",
       "      <th>...</th>\n",
       "      <td>...</td>\n",
       "      <td>...</td>\n",
       "      <td>...</td>\n",
       "      <td>...</td>\n",
       "      <td>...</td>\n",
       "      <td>...</td>\n",
       "      <td>...</td>\n",
       "      <td>...</td>\n",
       "    </tr>\n",
       "    <tr>\n",
       "      <th>145</th>\n",
       "      <td>146</td>\n",
       "      <td>Paterson</td>\n",
       "      <td>New Jersey</td>\n",
       "      <td>Region 1</td>\n",
       "      <td>New</td>\n",
       "      <td>2251</td>\n",
       "      <td>34603</td>\n",
       "      <td>32352</td>\n",
       "    </tr>\n",
       "    <tr>\n",
       "      <th>146</th>\n",
       "      <td>147</td>\n",
       "      <td>Brownsville</td>\n",
       "      <td>Texas</td>\n",
       "      <td>Region 2</td>\n",
       "      <td>New</td>\n",
       "      <td>3675</td>\n",
       "      <td>63148</td>\n",
       "      <td>59473</td>\n",
       "    </tr>\n",
       "    <tr>\n",
       "      <th>147</th>\n",
       "      <td>148</td>\n",
       "      <td>Rockford</td>\n",
       "      <td>Illinois</td>\n",
       "      <td>Region 1</td>\n",
       "      <td>New</td>\n",
       "      <td>2648</td>\n",
       "      <td>43377</td>\n",
       "      <td>40729</td>\n",
       "    </tr>\n",
       "    <tr>\n",
       "      <th>148</th>\n",
       "      <td>149</td>\n",
       "      <td>College Station</td>\n",
       "      <td>Texas</td>\n",
       "      <td>Region 2</td>\n",
       "      <td>New</td>\n",
       "      <td>2994</td>\n",
       "      <td>22457</td>\n",
       "      <td>19463</td>\n",
       "    </tr>\n",
       "    <tr>\n",
       "      <th>149</th>\n",
       "      <td>150</td>\n",
       "      <td>Thousand Oaks</td>\n",
       "      <td>California</td>\n",
       "      <td>Region 2</td>\n",
       "      <td>New</td>\n",
       "      <td>2431</td>\n",
       "      <td>40141</td>\n",
       "      <td>37710</td>\n",
       "    </tr>\n",
       "  </tbody>\n",
       "</table>\n",
       "<p>150 rows × 8 columns</p>\n",
       "</div>"
      ],
      "text/plain": [
       "     Store ID             City       State Sales Region New Expansion  \\\n",
       "0           1           Peoria     Arizona     Region 2           Old   \n",
       "1           2          Midland       Texas     Region 2           Old   \n",
       "2           3          Spokane  Washington     Region 2           Old   \n",
       "3           4           Denton       Texas     Region 2           Old   \n",
       "4           5    Overland Park      Kansas     Region 2           Old   \n",
       "..        ...              ...         ...          ...           ...   \n",
       "145       146         Paterson  New Jersey     Region 1           New   \n",
       "146       147      Brownsville       Texas     Region 2           New   \n",
       "147       148         Rockford    Illinois     Region 1           New   \n",
       "148       149  College Station       Texas     Region 2           New   \n",
       "149       150    Thousand Oaks  California     Region 2           New   \n",
       "\n",
       "     Marketing Spend  Revenue  Profit  \n",
       "0               2601    48610   46009  \n",
       "1               2727    45689   42962  \n",
       "2               2768    49554   46786  \n",
       "3               2759    38284   35525  \n",
       "4               2869    59887   57018  \n",
       "..               ...      ...     ...  \n",
       "145             2251    34603   32352  \n",
       "146             3675    63148   59473  \n",
       "147             2648    43377   40729  \n",
       "148             2994    22457   19463  \n",
       "149             2431    40141   37710  \n",
       "\n",
       "[150 rows x 8 columns]"
      ]
     },
     "execution_count": 25,
     "metadata": {},
     "output_type": "execute_result"
    }
   ],
   "source": [
    "startup['Profit'] = startup['Revenue'] -  startup['Marketing Spend']\n",
    "startup"
   ]
  },
  {
   "cell_type": "code",
   "execution_count": 26,
   "id": "569bd8cc",
   "metadata": {
    "execution": {
     "iopub.execute_input": "2024-05-08T20:34:30.082646Z",
     "iopub.status.busy": "2024-05-08T20:34:30.082137Z",
     "iopub.status.idle": "2024-05-08T20:34:30.104840Z",
     "shell.execute_reply": "2024-05-08T20:34:30.103868Z"
    },
    "papermill": {
     "duration": 0.044596,
     "end_time": "2024-05-08T20:34:30.107348",
     "exception": false,
     "start_time": "2024-05-08T20:34:30.062752",
     "status": "completed"
    },
    "tags": []
   },
   "outputs": [
    {
     "data": {
      "text/html": [
       "<div>\n",
       "<style scoped>\n",
       "    .dataframe tbody tr th:only-of-type {\n",
       "        vertical-align: middle;\n",
       "    }\n",
       "\n",
       "    .dataframe tbody tr th {\n",
       "        vertical-align: top;\n",
       "    }\n",
       "\n",
       "    .dataframe thead th {\n",
       "        text-align: right;\n",
       "    }\n",
       "</style>\n",
       "<table border=\"1\" class=\"dataframe\">\n",
       "  <thead>\n",
       "    <tr style=\"text-align: right;\">\n",
       "      <th></th>\n",
       "      <th>Store ID</th>\n",
       "      <th>City</th>\n",
       "      <th>State</th>\n",
       "      <th>Sales Region</th>\n",
       "      <th>New Expansion</th>\n",
       "      <th>Marketing Spend</th>\n",
       "      <th>Revenue</th>\n",
       "      <th>Profit</th>\n",
       "      <th>ROMS</th>\n",
       "    </tr>\n",
       "  </thead>\n",
       "  <tbody>\n",
       "    <tr>\n",
       "      <th>0</th>\n",
       "      <td>1</td>\n",
       "      <td>Peoria</td>\n",
       "      <td>Arizona</td>\n",
       "      <td>Region 2</td>\n",
       "      <td>Old</td>\n",
       "      <td>2601</td>\n",
       "      <td>48610</td>\n",
       "      <td>46009</td>\n",
       "      <td>1768.90</td>\n",
       "    </tr>\n",
       "    <tr>\n",
       "      <th>1</th>\n",
       "      <td>2</td>\n",
       "      <td>Midland</td>\n",
       "      <td>Texas</td>\n",
       "      <td>Region 2</td>\n",
       "      <td>Old</td>\n",
       "      <td>2727</td>\n",
       "      <td>45689</td>\n",
       "      <td>42962</td>\n",
       "      <td>1575.43</td>\n",
       "    </tr>\n",
       "    <tr>\n",
       "      <th>2</th>\n",
       "      <td>3</td>\n",
       "      <td>Spokane</td>\n",
       "      <td>Washington</td>\n",
       "      <td>Region 2</td>\n",
       "      <td>Old</td>\n",
       "      <td>2768</td>\n",
       "      <td>49554</td>\n",
       "      <td>46786</td>\n",
       "      <td>1690.25</td>\n",
       "    </tr>\n",
       "    <tr>\n",
       "      <th>3</th>\n",
       "      <td>4</td>\n",
       "      <td>Denton</td>\n",
       "      <td>Texas</td>\n",
       "      <td>Region 2</td>\n",
       "      <td>Old</td>\n",
       "      <td>2759</td>\n",
       "      <td>38284</td>\n",
       "      <td>35525</td>\n",
       "      <td>1287.60</td>\n",
       "    </tr>\n",
       "    <tr>\n",
       "      <th>4</th>\n",
       "      <td>5</td>\n",
       "      <td>Overland Park</td>\n",
       "      <td>Kansas</td>\n",
       "      <td>Region 2</td>\n",
       "      <td>Old</td>\n",
       "      <td>2869</td>\n",
       "      <td>59887</td>\n",
       "      <td>57018</td>\n",
       "      <td>1987.38</td>\n",
       "    </tr>\n",
       "    <tr>\n",
       "      <th>...</th>\n",
       "      <td>...</td>\n",
       "      <td>...</td>\n",
       "      <td>...</td>\n",
       "      <td>...</td>\n",
       "      <td>...</td>\n",
       "      <td>...</td>\n",
       "      <td>...</td>\n",
       "      <td>...</td>\n",
       "      <td>...</td>\n",
       "    </tr>\n",
       "    <tr>\n",
       "      <th>145</th>\n",
       "      <td>146</td>\n",
       "      <td>Paterson</td>\n",
       "      <td>New Jersey</td>\n",
       "      <td>Region 1</td>\n",
       "      <td>New</td>\n",
       "      <td>2251</td>\n",
       "      <td>34603</td>\n",
       "      <td>32352</td>\n",
       "      <td>1437.23</td>\n",
       "    </tr>\n",
       "    <tr>\n",
       "      <th>146</th>\n",
       "      <td>147</td>\n",
       "      <td>Brownsville</td>\n",
       "      <td>Texas</td>\n",
       "      <td>Region 2</td>\n",
       "      <td>New</td>\n",
       "      <td>3675</td>\n",
       "      <td>63148</td>\n",
       "      <td>59473</td>\n",
       "      <td>1618.31</td>\n",
       "    </tr>\n",
       "    <tr>\n",
       "      <th>147</th>\n",
       "      <td>148</td>\n",
       "      <td>Rockford</td>\n",
       "      <td>Illinois</td>\n",
       "      <td>Region 1</td>\n",
       "      <td>New</td>\n",
       "      <td>2648</td>\n",
       "      <td>43377</td>\n",
       "      <td>40729</td>\n",
       "      <td>1538.10</td>\n",
       "    </tr>\n",
       "    <tr>\n",
       "      <th>148</th>\n",
       "      <td>149</td>\n",
       "      <td>College Station</td>\n",
       "      <td>Texas</td>\n",
       "      <td>Region 2</td>\n",
       "      <td>New</td>\n",
       "      <td>2994</td>\n",
       "      <td>22457</td>\n",
       "      <td>19463</td>\n",
       "      <td>650.07</td>\n",
       "    </tr>\n",
       "    <tr>\n",
       "      <th>149</th>\n",
       "      <td>150</td>\n",
       "      <td>Thousand Oaks</td>\n",
       "      <td>California</td>\n",
       "      <td>Region 2</td>\n",
       "      <td>New</td>\n",
       "      <td>2431</td>\n",
       "      <td>40141</td>\n",
       "      <td>37710</td>\n",
       "      <td>1551.21</td>\n",
       "    </tr>\n",
       "  </tbody>\n",
       "</table>\n",
       "<p>150 rows × 9 columns</p>\n",
       "</div>"
      ],
      "text/plain": [
       "     Store ID             City       State Sales Region New Expansion  \\\n",
       "0           1           Peoria     Arizona     Region 2           Old   \n",
       "1           2          Midland       Texas     Region 2           Old   \n",
       "2           3          Spokane  Washington     Region 2           Old   \n",
       "3           4           Denton       Texas     Region 2           Old   \n",
       "4           5    Overland Park      Kansas     Region 2           Old   \n",
       "..        ...              ...         ...          ...           ...   \n",
       "145       146         Paterson  New Jersey     Region 1           New   \n",
       "146       147      Brownsville       Texas     Region 2           New   \n",
       "147       148         Rockford    Illinois     Region 1           New   \n",
       "148       149  College Station       Texas     Region 2           New   \n",
       "149       150    Thousand Oaks  California     Region 2           New   \n",
       "\n",
       "     Marketing Spend  Revenue  Profit     ROMS  \n",
       "0               2601    48610   46009  1768.90  \n",
       "1               2727    45689   42962  1575.43  \n",
       "2               2768    49554   46786  1690.25  \n",
       "3               2759    38284   35525  1287.60  \n",
       "4               2869    59887   57018  1987.38  \n",
       "..               ...      ...     ...      ...  \n",
       "145             2251    34603   32352  1437.23  \n",
       "146             3675    63148   59473  1618.31  \n",
       "147             2648    43377   40729  1538.10  \n",
       "148             2994    22457   19463   650.07  \n",
       "149             2431    40141   37710  1551.21  \n",
       "\n",
       "[150 rows x 9 columns]"
      ]
     },
     "execution_count": 26,
     "metadata": {},
     "output_type": "execute_result"
    }
   ],
   "source": [
    "startup['ROMS'] = round((startup['Profit'] /  startup['Marketing Spend'])*100,2)\n",
    "startup"
   ]
  },
  {
   "cell_type": "code",
   "execution_count": 27,
   "id": "23973411",
   "metadata": {
    "execution": {
     "iopub.execute_input": "2024-05-08T20:34:30.150650Z",
     "iopub.status.busy": "2024-05-08T20:34:30.150069Z",
     "iopub.status.idle": "2024-05-08T20:34:30.182332Z",
     "shell.execute_reply": "2024-05-08T20:34:30.180494Z"
    },
    "papermill": {
     "duration": 0.058001,
     "end_time": "2024-05-08T20:34:30.185772",
     "exception": false,
     "start_time": "2024-05-08T20:34:30.127771",
     "status": "completed"
    },
    "tags": []
   },
   "outputs": [
    {
     "data": {
      "text/html": [
       "<div>\n",
       "<style scoped>\n",
       "    .dataframe tbody tr th:only-of-type {\n",
       "        vertical-align: middle;\n",
       "    }\n",
       "\n",
       "    .dataframe tbody tr th {\n",
       "        vertical-align: top;\n",
       "    }\n",
       "\n",
       "    .dataframe thead th {\n",
       "        text-align: right;\n",
       "    }\n",
       "</style>\n",
       "<table border=\"1\" class=\"dataframe\">\n",
       "  <thead>\n",
       "    <tr style=\"text-align: right;\">\n",
       "      <th></th>\n",
       "      <th>Store ID</th>\n",
       "      <th>City</th>\n",
       "      <th>State</th>\n",
       "      <th>Sales Region</th>\n",
       "      <th>New Expansion</th>\n",
       "      <th>Marketing Spend</th>\n",
       "      <th>Revenue</th>\n",
       "      <th>Profit</th>\n",
       "      <th>ROMS</th>\n",
       "      <th>ROMS%</th>\n",
       "    </tr>\n",
       "  </thead>\n",
       "  <tbody>\n",
       "    <tr>\n",
       "      <th>0</th>\n",
       "      <td>1</td>\n",
       "      <td>Peoria</td>\n",
       "      <td>Arizona</td>\n",
       "      <td>Region 2</td>\n",
       "      <td>Old</td>\n",
       "      <td>2601</td>\n",
       "      <td>48610</td>\n",
       "      <td>46009</td>\n",
       "      <td>1768.90</td>\n",
       "      <td>17.6890</td>\n",
       "    </tr>\n",
       "    <tr>\n",
       "      <th>1</th>\n",
       "      <td>2</td>\n",
       "      <td>Midland</td>\n",
       "      <td>Texas</td>\n",
       "      <td>Region 2</td>\n",
       "      <td>Old</td>\n",
       "      <td>2727</td>\n",
       "      <td>45689</td>\n",
       "      <td>42962</td>\n",
       "      <td>1575.43</td>\n",
       "      <td>15.7543</td>\n",
       "    </tr>\n",
       "    <tr>\n",
       "      <th>2</th>\n",
       "      <td>3</td>\n",
       "      <td>Spokane</td>\n",
       "      <td>Washington</td>\n",
       "      <td>Region 2</td>\n",
       "      <td>Old</td>\n",
       "      <td>2768</td>\n",
       "      <td>49554</td>\n",
       "      <td>46786</td>\n",
       "      <td>1690.25</td>\n",
       "      <td>16.9025</td>\n",
       "    </tr>\n",
       "    <tr>\n",
       "      <th>3</th>\n",
       "      <td>4</td>\n",
       "      <td>Denton</td>\n",
       "      <td>Texas</td>\n",
       "      <td>Region 2</td>\n",
       "      <td>Old</td>\n",
       "      <td>2759</td>\n",
       "      <td>38284</td>\n",
       "      <td>35525</td>\n",
       "      <td>1287.60</td>\n",
       "      <td>12.8760</td>\n",
       "    </tr>\n",
       "    <tr>\n",
       "      <th>4</th>\n",
       "      <td>5</td>\n",
       "      <td>Overland Park</td>\n",
       "      <td>Kansas</td>\n",
       "      <td>Region 2</td>\n",
       "      <td>Old</td>\n",
       "      <td>2869</td>\n",
       "      <td>59887</td>\n",
       "      <td>57018</td>\n",
       "      <td>1987.38</td>\n",
       "      <td>19.8738</td>\n",
       "    </tr>\n",
       "    <tr>\n",
       "      <th>...</th>\n",
       "      <td>...</td>\n",
       "      <td>...</td>\n",
       "      <td>...</td>\n",
       "      <td>...</td>\n",
       "      <td>...</td>\n",
       "      <td>...</td>\n",
       "      <td>...</td>\n",
       "      <td>...</td>\n",
       "      <td>...</td>\n",
       "      <td>...</td>\n",
       "    </tr>\n",
       "    <tr>\n",
       "      <th>145</th>\n",
       "      <td>146</td>\n",
       "      <td>Paterson</td>\n",
       "      <td>New Jersey</td>\n",
       "      <td>Region 1</td>\n",
       "      <td>New</td>\n",
       "      <td>2251</td>\n",
       "      <td>34603</td>\n",
       "      <td>32352</td>\n",
       "      <td>1437.23</td>\n",
       "      <td>14.3723</td>\n",
       "    </tr>\n",
       "    <tr>\n",
       "      <th>146</th>\n",
       "      <td>147</td>\n",
       "      <td>Brownsville</td>\n",
       "      <td>Texas</td>\n",
       "      <td>Region 2</td>\n",
       "      <td>New</td>\n",
       "      <td>3675</td>\n",
       "      <td>63148</td>\n",
       "      <td>59473</td>\n",
       "      <td>1618.31</td>\n",
       "      <td>16.1831</td>\n",
       "    </tr>\n",
       "    <tr>\n",
       "      <th>147</th>\n",
       "      <td>148</td>\n",
       "      <td>Rockford</td>\n",
       "      <td>Illinois</td>\n",
       "      <td>Region 1</td>\n",
       "      <td>New</td>\n",
       "      <td>2648</td>\n",
       "      <td>43377</td>\n",
       "      <td>40729</td>\n",
       "      <td>1538.10</td>\n",
       "      <td>15.3810</td>\n",
       "    </tr>\n",
       "    <tr>\n",
       "      <th>148</th>\n",
       "      <td>149</td>\n",
       "      <td>College Station</td>\n",
       "      <td>Texas</td>\n",
       "      <td>Region 2</td>\n",
       "      <td>New</td>\n",
       "      <td>2994</td>\n",
       "      <td>22457</td>\n",
       "      <td>19463</td>\n",
       "      <td>650.07</td>\n",
       "      <td>6.5007</td>\n",
       "    </tr>\n",
       "    <tr>\n",
       "      <th>149</th>\n",
       "      <td>150</td>\n",
       "      <td>Thousand Oaks</td>\n",
       "      <td>California</td>\n",
       "      <td>Region 2</td>\n",
       "      <td>New</td>\n",
       "      <td>2431</td>\n",
       "      <td>40141</td>\n",
       "      <td>37710</td>\n",
       "      <td>1551.21</td>\n",
       "      <td>15.5121</td>\n",
       "    </tr>\n",
       "  </tbody>\n",
       "</table>\n",
       "<p>150 rows × 10 columns</p>\n",
       "</div>"
      ],
      "text/plain": [
       "     Store ID             City       State Sales Region New Expansion  \\\n",
       "0           1           Peoria     Arizona     Region 2           Old   \n",
       "1           2          Midland       Texas     Region 2           Old   \n",
       "2           3          Spokane  Washington     Region 2           Old   \n",
       "3           4           Denton       Texas     Region 2           Old   \n",
       "4           5    Overland Park      Kansas     Region 2           Old   \n",
       "..        ...              ...         ...          ...           ...   \n",
       "145       146         Paterson  New Jersey     Region 1           New   \n",
       "146       147      Brownsville       Texas     Region 2           New   \n",
       "147       148         Rockford    Illinois     Region 1           New   \n",
       "148       149  College Station       Texas     Region 2           New   \n",
       "149       150    Thousand Oaks  California     Region 2           New   \n",
       "\n",
       "     Marketing Spend  Revenue  Profit     ROMS    ROMS%  \n",
       "0               2601    48610   46009  1768.90  17.6890  \n",
       "1               2727    45689   42962  1575.43  15.7543  \n",
       "2               2768    49554   46786  1690.25  16.9025  \n",
       "3               2759    38284   35525  1287.60  12.8760  \n",
       "4               2869    59887   57018  1987.38  19.8738  \n",
       "..               ...      ...     ...      ...      ...  \n",
       "145             2251    34603   32352  1437.23  14.3723  \n",
       "146             3675    63148   59473  1618.31  16.1831  \n",
       "147             2648    43377   40729  1538.10  15.3810  \n",
       "148             2994    22457   19463   650.07   6.5007  \n",
       "149             2431    40141   37710  1551.21  15.5121  \n",
       "\n",
       "[150 rows x 10 columns]"
      ]
     },
     "execution_count": 27,
     "metadata": {},
     "output_type": "execute_result"
    }
   ],
   "source": [
    "startup['ROMS%'] = startup['ROMS']/100\n",
    "startup"
   ]
  },
  {
   "cell_type": "markdown",
   "id": "31305b25",
   "metadata": {
    "papermill": {
     "duration": 0.020674,
     "end_time": "2024-05-08T20:34:30.228328",
     "exception": false,
     "start_time": "2024-05-08T20:34:30.207654",
     "status": "completed"
    },
    "tags": []
   },
   "source": [
    "## City Distribution:"
   ]
  },
  {
   "cell_type": "code",
   "execution_count": 28,
   "id": "c2cfcf40",
   "metadata": {
    "execution": {
     "iopub.execute_input": "2024-05-08T20:34:30.270144Z",
     "iopub.status.busy": "2024-05-08T20:34:30.269053Z",
     "iopub.status.idle": "2024-05-08T20:34:31.041066Z",
     "shell.execute_reply": "2024-05-08T20:34:31.040081Z"
    },
    "papermill": {
     "duration": 0.796423,
     "end_time": "2024-05-08T20:34:31.044086",
     "exception": false,
     "start_time": "2024-05-08T20:34:30.247663",
     "status": "completed"
    },
    "tags": []
   },
   "outputs": [
    {
     "data": {
      "image/png": "[encoded data removed]",
      "text/plain": [
       "<Figure size 1200x600 with 1 Axes>"
      ]
     },
     "metadata": {},
     "output_type": "display_data"
    }
   ],
   "source": [
    "plt.figure(figsize=(12, 6))\n",
    "sns.countplot(x='State', data=startup, order=startup['State'].value_counts().index)\n",
    "plt.xticks(rotation=90)\n",
    "plt.title('Startup Distribution by State')\n",
    "plt.show()\n"
   ]
  },
  {
   "cell_type": "markdown",
   "id": "9b5b2a0f",
   "metadata": {
    "papermill": {
     "duration": 0.020541,
     "end_time": "2024-05-08T20:34:31.084624",
     "exception": false,
     "start_time": "2024-05-08T20:34:31.064083",
     "status": "completed"
    },
    "tags": []
   },
   "source": [
    "## Sales Region Analysis"
   ]
  },
  {
   "cell_type": "code",
   "execution_count": 29,
   "id": "31242c55",
   "metadata": {
    "execution": {
     "iopub.execute_input": "2024-05-08T20:34:31.128362Z",
     "iopub.status.busy": "2024-05-08T20:34:31.127917Z",
     "iopub.status.idle": "2024-05-08T20:34:31.393948Z",
     "shell.execute_reply": "2024-05-08T20:34:31.392666Z"
    },
    "papermill": {
     "duration": 0.290457,
     "end_time": "2024-05-08T20:34:31.396902",
     "exception": false,
     "start_time": "2024-05-08T20:34:31.106445",
     "status": "completed"
    },
    "tags": []
   },
   "outputs": [
    {
     "data": {
      "image/png": "[encoded data removed]",
      "text/plain": [
       "<Figure size 800x500 with 1 Axes>"
      ]
     },
     "metadata": {},
     "output_type": "display_data"
    }
   ],
   "source": [
    "plt.figure(figsize=(8, 5))\n",
    "sns.countplot(x='Sales Region', data=startup)\n",
    "plt.title('Startup Distribution by Sales Region')\n",
    "plt.show()\n"
   ]
  },
  {
   "cell_type": "markdown",
   "id": "7169fa79",
   "metadata": {
    "papermill": {
     "duration": 0.020421,
     "end_time": "2024-05-08T20:34:31.438060",
     "exception": false,
     "start_time": "2024-05-08T20:34:31.417639",
     "status": "completed"
    },
    "tags": []
   },
   "source": [
    "## New vs. Old Expansion"
   ]
  },
  {
   "cell_type": "code",
   "execution_count": 30,
   "id": "4053f3e4",
   "metadata": {
    "execution": {
     "iopub.execute_input": "2024-05-08T20:34:31.484785Z",
     "iopub.status.busy": "2024-05-08T20:34:31.484317Z",
     "iopub.status.idle": "2024-05-08T20:34:31.745453Z",
     "shell.execute_reply": "2024-05-08T20:34:31.744121Z"
    },
    "papermill": {
     "duration": 0.289676,
     "end_time": "2024-05-08T20:34:31.748494",
     "exception": false,
     "start_time": "2024-05-08T20:34:31.458818",
     "status": "completed"
    },
    "tags": []
   },
   "outputs": [
    {
     "data": {
      "image/png": "[encoded data removed]",
      "text/plain": [
       "<Figure size 800x500 with 1 Axes>"
      ]
     },
     "metadata": {},
     "output_type": "display_data"
    }
   ],
   "source": [
    "plt.figure(figsize=(8, 5))\n",
    "sns.countplot(x='New Expansion', data=startup)\n",
    "plt.title('New vs. Old Expansion')\n",
    "plt.show()\n"
   ]
  },
  {
   "cell_type": "markdown",
   "id": "b8d79cc7",
   "metadata": {
    "papermill": {
     "duration": 0.020438,
     "end_time": "2024-05-08T20:34:31.789833",
     "exception": false,
     "start_time": "2024-05-08T20:34:31.769395",
     "status": "completed"
    },
    "tags": []
   },
   "source": [
    "## Revenue Analysis:"
   ]
  },
  {
   "cell_type": "code",
   "execution_count": 31,
   "id": "85219463",
   "metadata": {
    "execution": {
     "iopub.execute_input": "2024-05-08T20:34:31.833015Z",
     "iopub.status.busy": "2024-05-08T20:34:31.832641Z",
     "iopub.status.idle": "2024-05-08T20:34:32.759399Z",
     "shell.execute_reply": "2024-05-08T20:34:32.758372Z"
    },
    "papermill": {
     "duration": 0.951527,
     "end_time": "2024-05-08T20:34:32.762084",
     "exception": false,
     "start_time": "2024-05-08T20:34:31.810557",
     "status": "completed"
    },
    "tags": []
   },
   "outputs": [
    {
     "data": {
      "image/png": "[encoded data removed]",
      "text/plain": [
       "<Figure size 1000x600 with 1 Axes>"
      ]
     },
     "metadata": {},
     "output_type": "display_data"
    }
   ],
   "source": [
    "plt.figure(figsize=(10, 6))\n",
    "sns.boxplot(x='State', y='Revenue', data=startup)\n",
    "plt.title('Revenue Distribution by State')\n",
    "plt.xticks(rotation=90)\n",
    "plt.show()\n"
   ]
  },
  {
   "cell_type": "markdown",
   "id": "a9c6af89",
   "metadata": {
    "papermill": {
     "duration": 0.021556,
     "end_time": "2024-05-08T20:34:32.805737",
     "exception": false,
     "start_time": "2024-05-08T20:34:32.784181",
     "status": "completed"
    },
    "tags": []
   },
   "source": [
    "## Marketing Spend Analysis"
   ]
  },
  {
   "cell_type": "code",
   "execution_count": 32,
   "id": "fad69096",
   "metadata": {
    "execution": {
     "iopub.execute_input": "2024-05-08T20:34:32.851645Z",
     "iopub.status.busy": "2024-05-08T20:34:32.851212Z",
     "iopub.status.idle": "2024-05-08T20:34:33.249897Z",
     "shell.execute_reply": "2024-05-08T20:34:33.249003Z"
    },
    "papermill": {
     "duration": 0.425248,
     "end_time": "2024-05-08T20:34:33.253064",
     "exception": false,
     "start_time": "2024-05-08T20:34:32.827816",
     "status": "completed"
    },
    "tags": []
   },
   "outputs": [
    {
     "data": {
      "image/png": "[encoded data removed]",
      "text/plain": [
       "<Figure size 1000x600 with 1 Axes>"
      ]
     },
     "metadata": {},
     "output_type": "display_data"
    }
   ],
   "source": [
    "plt.figure(figsize=(10, 6))\n",
    "sns.scatterplot(x='Marketing Spend', y='Revenue', hue='New Expansion', data=startup)\n",
    "plt.title('Marketing Spend vs. Revenue')\n",
    "plt.show()\n"
   ]
  },
  {
   "cell_type": "markdown",
   "id": "b8ba293d",
   "metadata": {
    "papermill": {
     "duration": 0.022704,
     "end_time": "2024-05-08T20:34:33.298921",
     "exception": false,
     "start_time": "2024-05-08T20:34:33.276217",
     "status": "completed"
    },
    "tags": []
   },
   "source": [
    "## "
   ]
  },
  {
   "cell_type": "code",
   "execution_count": 33,
   "id": "41ac5e2a",
   "metadata": {
    "execution": {
     "iopub.execute_input": "2024-05-08T20:34:33.348416Z",
     "iopub.status.busy": "2024-05-08T20:34:33.347917Z",
     "iopub.status.idle": "2024-05-08T20:34:33.366107Z",
     "shell.execute_reply": "2024-05-08T20:34:33.364837Z"
    },
    "papermill": {
     "duration": 0.046362,
     "end_time": "2024-05-08T20:34:33.369026",
     "exception": false,
     "start_time": "2024-05-08T20:34:33.322664",
     "status": "completed"
    },
    "tags": []
   },
   "outputs": [],
   "source": [
    "startup.to_csv('startup_modefied.csv')"
   ]
  }
 ],
 "metadata": {
  "kaggle": {
   "accelerator": "none",
   "dataSources": [
    {
     "datasetId": 2511257,
     "sourceId": 4261745,
     "sourceType": "datasetVersion"
    }
   ],
   "dockerImageVersionId": 30698,
   "isGpuEnabled": false,
   "isInternetEnabled": true,
   "language": "python",
   "sourceType": "notebook"
  },
  "kernelspec": {
   "display_name": "Python 3",
   "language": "python",
   "name": "python3"
  },
  "language_info": {
   "codemirror_mode": {
    "name": "ipython",
    "version": 3
   },
   "file_extension": ".py",
   "mimetype": "text/x-python",
   "name": "python",
   "nbconvert_exporter": "python",
   "pygments_lexer": "ipython3",
   "version": "3.10.13"
  },
  "papermill": {
   "default_parameters": {},
   "duration": 30.922177,
   "end_time": "2024-05-08T20:34:34.317505",
   "environment_variables": {},
   "exception": null,
   "input_path": "__notebook__.ipynb",
   "output_path": "__notebook__.ipynb",
   "parameters": {},
   "start_time": "2024-05-08T20:34:03.395328",
   "version": "2.5.0"
  }
 },
 "nbformat": 4,
 "nbformat_minor": 5
}
